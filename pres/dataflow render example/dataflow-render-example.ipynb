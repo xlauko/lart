{
 "cells": [
  {
   "cell_type": "markdown",
   "id": "05ef652e",
   "metadata": {},
   "source": [
    "# Dataflow Render Example"
   ]
  },
  {
   "cell_type": "code",
   "execution_count": 1,
   "id": "c75e928d",
   "metadata": {},
   "outputs": [],
   "source": [
    "from dataflow import *"
   ]
  },
  {
   "cell_type": "code",
   "execution_count": 2,
   "id": "e9c5af7e",
   "metadata": {},
   "outputs": [
    {
     "data": {
      "text/html": [
       "<script src=\"https://d3js.org/d3.v5.min.js\"></script>\n",
       "<script src=\"https://unpkg.com/@hpcc-js/wasm@0.3.11/dist/index.min.js\"></script>\n",
       "<script src=\"https://unpkg.com/d3-graphviz@3.0.5/build/d3-graphviz.js\"></script>\n"
      ],
      "text/plain": [
       "<IPython.core.display.HTML object>"
      ]
     },
     "metadata": {},
     "output_type": "display_data"
    }
   ],
   "source": [
    "%%html\n",
    "<script src=\"https://d3js.org/d3.v5.min.js\"></script>\n",
    "<script src=\"https://unpkg.com/@hpcc-js/wasm@0.3.11/dist/index.min.js\"></script>\n",
    "<script src=\"https://unpkg.com/d3-graphviz@3.0.5/build/d3-graphviz.js\"></script>"
   ]
  },
  {
   "cell_type": "code",
   "execution_count": 3,
   "id": "a75a745f",
   "metadata": {},
   "outputs": [
    {
     "data": {
      "text/html": [
       "<div id=\"graph\" style=\"text-align: center;\"></div>\n"
      ],
      "text/plain": [
       "<IPython.core.display.HTML object>"
      ]
     },
     "metadata": {},
     "output_type": "display_data"
    }
   ],
   "source": [
    "%%html\n",
    "<div id=\"graph\" style=\"text-align: center;\"></div>"
   ]
  },
  {
   "cell_type": "code",
   "execution_count": 4,
   "id": "cda70fa4",
   "metadata": {},
   "outputs": [],
   "source": [
    "df = Dataflow()"
   ]
  },
  {
   "cell_type": "code",
   "execution_count": 5,
   "id": "b053a86c",
   "metadata": {},
   "outputs": [],
   "source": [
    "df.add_node(Node('entry', 'entry', NodeKind.Entry))"
   ]
  },
  {
   "cell_type": "code",
   "execution_count": 6,
   "id": "8ab1c2ba",
   "metadata": {},
   "outputs": [],
   "source": [
    "df.add_node(Node('1', 'a = b + c', NodeKind.Expr))\n",
    "df.add_node(Node('2', 'x = y - z', NodeKind.Expr))\n",
    "df.add_node(Node('3', 'a < x', NodeKind.Choose))"
   ]
  },
  {
   "cell_type": "code",
   "execution_count": 8,
   "id": "a666a6de",
   "metadata": {},
   "outputs": [
    {
     "data": {
      "application/javascript": [
       "\n",
       "        d3.select(\"#graph\").graphviz()\n",
       "            .renderDot('digraph {\\n\\tnode [shape=none]\\n\\tentry [label=entry]\\n\\tnode [shape=box]\\n\\t1 [label=\"a = b + c\"]\\n\\tnode [color=lightgrey shape=box style=filled]\\n\\t2 [label=\"x = y - z\"]\\n\\tentry -> 1\\n\\t1 -> 2\\n}');\n",
       "        "
      ],
      "text/plain": [
       "<IPython.core.display.Javascript object>"
      ]
     },
     "metadata": {},
     "output_type": "display_data"
    }
   ],
   "source": [
    "df.render()"
   ]
  },
  {
   "cell_type": "code",
   "execution_count": null,
   "id": "cb81fea4",
   "metadata": {},
   "outputs": [],
   "source": []
  }
 ],
 "metadata": {
  "kernelspec": {
   "display_name": "Python 3",
   "language": "python",
   "name": "python3"
  },
  "language_info": {
   "codemirror_mode": {
    "name": "ipython",
    "version": 3
   },
   "file_extension": ".py",
   "mimetype": "text/x-python",
   "name": "python",
   "nbconvert_exporter": "python",
   "pygments_lexer": "ipython3",
   "version": "3.8.8"
  }
 },
 "nbformat": 4,
 "nbformat_minor": 5
}
