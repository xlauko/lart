{
 "cells": [
  {
   "cell_type": "markdown",
   "id": "19aeccda",
   "metadata": {
    "hideCode": false,
    "hidePrompt": false,
    "hide_input": true,
    "slideshow": {
     "slide_type": "slide"
    }
   },
   "source": [
    "# Simulator Example"
   ]
  },
  {
   "cell_type": "code",
   "execution_count": 1,
   "id": "4fcbf798",
   "metadata": {},
   "outputs": [],
   "source": [
    "import os\n",
    "\n",
    "os.environ['LART_TRACE_CHOICES']='OFF'\n",
    "os.environ['DFSAN_OPTIONS']='warn_unimplemented=0'"
   ]
  },
  {
   "cell_type": "markdown",
   "id": "a294ebd3",
   "metadata": {
    "hideCode": false,
    "hidePrompt": false,
    "slideshow": {
     "slide_type": "slide"
    }
   },
   "source": [
    "## A Simple Program"
   ]
  },
  {
   "cell_type": "code",
   "execution_count": 2,
   "id": "32e71e84",
   "metadata": {},
   "outputs": [
    {
     "name": "stdout",
     "output_type": "stream",
     "text": [
      "Overwriting simple.c\n"
     ]
    }
   ],
   "source": [
    "%%writefile simple.c\n",
    "#include <lamp.h>\n",
    "#include <stdio.h>\n",
    "\n",
    "int main() {\n",
    "    int i = __lamp_any_i32();\n",
    "    if (i == 0)\n",
    "        printf(\"reached: i == 0\\n\");\n",
    "    else\n",
    "        printf(\"reached: i != 0\\n\");\n",
    "}"
   ]
  },
  {
   "cell_type": "code",
   "execution_count": 3,
   "id": "6207165f",
   "metadata": {
    "hideCode": false,
    "hidePrompt": false,
    "scrolled": false
   },
   "outputs": [
    {
     "name": "stdout",
     "output_type": "stream",
     "text": [
      "[2021-04-27 17:20:53.134] [\u001b[32minfo\u001b[m] lartcc started\r\n",
      "[2021-04-27 17:20:53.154] [\u001b[32minfo\u001b[m] lartcc finished\r\n"
     ]
    }
   ],
   "source": [
    "!lartcc unit -g simple.c -o simple"
   ]
  },
  {
   "cell_type": "code",
   "execution_count": 4,
   "id": "1ae0ccd1",
   "metadata": {
    "hideCode": false,
    "hidePrompt": false,
    "slideshow": {
     "slide_type": "slide"
    }
   },
   "outputs": [
    {
     "name": "stdout",
     "output_type": "stream",
     "text": [
      "reached: i == 0\r\n",
      "reached: i != 0\r\n"
     ]
    }
   ],
   "source": [
    "!./simple"
   ]
  },
  {
   "cell_type": "code",
   "execution_count": 5,
   "id": "41052a3b",
   "metadata": {},
   "outputs": [
    {
     "name": "stdout",
     "output_type": "stream",
     "text": [
      "Overwriting choices.c\n"
     ]
    }
   ],
   "source": [
    "%%writefile choices.c\n",
    "#include <lamp.h>\n",
    "#include <stdio.h>\n",
    "\n",
    "int main() {\n",
    "    int x = __lamp_any_i32();\n",
    "    int y = __lamp_any_i32();\n",
    "    if (x || y)\n",
    "        printf( \"reached: x || y\\n\" );\n",
    "    else\n",
    "        printf( \"reached: !(x || y)\\n\" );\n",
    "}"
   ]
  },
  {
   "cell_type": "code",
   "execution_count": 6,
   "id": "55c774d6",
   "metadata": {},
   "outputs": [
    {
     "name": "stdout",
     "output_type": "stream",
     "text": [
      "[2021-04-27 17:20:55.455] [\u001b[32minfo\u001b[m] lartcc started\r\n",
      "[2021-04-27 17:20:55.470] [\u001b[32minfo\u001b[m] lartcc finished\r\n"
     ]
    }
   ],
   "source": [
    "!lartcc unit -g choices.c -o choices"
   ]
  },
  {
   "cell_type": "code",
   "execution_count": 7,
   "id": "16a70bb1",
   "metadata": {
    "scrolled": true
   },
   "outputs": [
    {
     "name": "stdout",
     "output_type": "stream",
     "text": [
      "[lart config] trace choices\r\n",
      "reached: x || y\r\n",
      "[lart-choice] 1\r\n",
      "----------------\r\n",
      "reached: x || y\r\n",
      "[lart-choice] 0\r\n",
      "[lart-choice] 1\r\n",
      "----------------\r\n",
      "reached: !(x || y)\r\n",
      "[lart-choice] 0\r\n",
      "[lart-choice] 0\r\n",
      "----------------\r\n"
     ]
    }
   ],
   "source": [
    "!LART_TRACE_CHOICES='ON' ./choices"
   ]
  },
  {
   "cell_type": "code",
   "execution_count": 1,
   "id": "adfcfba6",
   "metadata": {},
   "outputs": [],
   "source": [
    "import simulator"
   ]
  },
  {
   "cell_type": "code",
   "execution_count": null,
   "id": "771f04c0",
   "metadata": {},
   "outputs": [],
   "source": []
  },
  {
   "cell_type": "code",
   "execution_count": 5,
   "id": "40f43532",
   "metadata": {},
   "outputs": [
    {
     "name": "stdout",
     "output_type": "stream",
     "text": [
      "Starting program: /home/xlauko1/src/lart/pres/simulator example/simple \n",
      "[Thread debugging using libthread_db enabled]\n",
      "Using host libthread_db library \"/lib/x86_64-linux-gnu/libthread_db.so.1\".\n",
      "\n",
      "Breakpoint 1, main () at simple.c:5\n",
      "5\t    int i = __lamp_any_i32();\n"
     ]
    }
   ],
   "source": [
    "%%lart.simulator ./simple\n"
   ]
  },
  {
   "cell_type": "markdown",
   "id": "244959bc",
   "metadata": {},
   "source": [
    "load abstracted programs to gdb simulator"
   ]
  },
  {
   "cell_type": "code",
   "execution_count": null,
   "id": "9c1193fd",
   "metadata": {
    "scrolled": true
   },
   "outputs": [],
   "source": [
    "#sim = Simulator()\n",
    "#sim.start()"
   ]
  },
  {
   "cell_type": "code",
   "execution_count": null,
   "id": "0bea8fcd",
   "metadata": {},
   "outputs": [],
   "source": []
  }
 ],
 "metadata": {
  "celltoolbar": "Hide code",
  "hide_code_all_hidden": false,
  "kernelspec": {
   "display_name": "Python 3",
   "language": "python",
   "name": "python3"
  },
  "language_info": {
   "codemirror_mode": {
    "name": "ipython",
    "version": 3
   },
   "file_extension": ".py",
   "mimetype": "text/x-python",
   "name": "python",
   "nbconvert_exporter": "python",
   "pygments_lexer": "ipython3",
   "version": "3.8.8"
  }
 },
 "nbformat": 4,
 "nbformat_minor": 5
}
